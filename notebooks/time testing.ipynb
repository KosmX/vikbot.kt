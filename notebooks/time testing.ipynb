{
 "cells": [
  {
   "cell_type": "code",
   "execution_count": 11,
   "metadata": {
    "collapsed": true,
    "ExecuteTime": {
     "end_time": "2023-09-16T16:33:35.159091243Z",
     "start_time": "2023-09-16T16:33:35.076216886Z"
    }
   },
   "outputs": [
    {
     "name": "stdout",
     "output_type": "stream",
     "text": [
      "Sat, 16 Sep 2023 18:33\n"
     ]
    }
   ],
   "source": [
    "import kotlinx.datetime.Clock\n",
    "import kotlinx.datetime.Instant\n",
    "import kotlinx.datetime.TimeZone\n",
    "import kotlinx.datetime.toLocalDateTime\n",
    "import java.time.format.TextStyle\n",
    "import java.util.*\n",
    "\n",
    "// This will take the Central European Time (local time), and manually convert it to string\n",
    "\n",
    "println(Clock.System.now().toLocalDateTime(TimeZone.of(\"CET\")).run { \"${dayOfWeek.getDisplayName(TextStyle.SHORT, Locale.ENGLISH)}, $dayOfMonth ${month.getDisplayName(TextStyle.SHORT, Locale.ENGLISH)} $year $hour:$minute\" })\n",
    "\n"
   ]
  },
  {
   "cell_type": "code",
   "execution_count": 12,
   "outputs": [],
   "source": [],
   "metadata": {
    "collapsed": false,
    "ExecuteTime": {
     "end_time": "2023-09-16T16:33:35.249714788Z",
     "start_time": "2023-09-16T16:33:35.159629413Z"
    }
   }
  }
 ],
 "metadata": {
  "kernelspec": {
   "display_name": "Kotlin",
   "language": "kotlin",
   "name": "kotlin"
  },
  "language_info": {
   "name": "kotlin",
   "version": "1.9.0",
   "mimetype": "text/x-kotlin",
   "file_extension": ".kt",
   "pygments_lexer": "kotlin",
   "codemirror_mode": "text/x-kotlin",
   "nbconvert_exporter": ""
  }
 },
 "nbformat": 4,
 "nbformat_minor": 0
}
